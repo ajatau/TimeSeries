{
 "cells": [
  {
   "cell_type": "code",
   "execution_count": 2,
   "metadata": {
    "collapsed": true
   },
   "outputs": [],
   "source": [
    "# Time series forecast using Facebook Prophet library\n",
    "# Dataset: Shipping data between US and China. Company dataset\n",
    "# Aim: To forecast amount of TEUS to be shipped between the 2 routes\n",
    "# Note: TEUS means 20feet container equivalent\n",
    "\n",
    "import numpy as np\n",
    "import pandas as pd\n",
    "from datetime import timedelta\n",
    "from matplotlib import pyplot as plt\n",
    "from fbprophet import Prophet\n"
   ]
  },
  {
   "cell_type": "code",
   "execution_count": 3,
   "metadata": {},
   "outputs": [
    {
     "data": {
      "text/html": [
       "<div>\n",
       "<style>\n",
       "    .dataframe thead tr:only-child th {\n",
       "        text-align: right;\n",
       "    }\n",
       "\n",
       "    .dataframe thead th {\n",
       "        text-align: left;\n",
       "    }\n",
       "\n",
       "    .dataframe tbody tr th {\n",
       "        vertical-align: top;\n",
       "    }\n",
       "</style>\n",
       "<table border=\"1\" class=\"dataframe\">\n",
       "  <thead>\n",
       "    <tr style=\"text-align: right;\">\n",
       "      <th></th>\n",
       "      <th>VDATE</th>\n",
       "      <th>VMONTH</th>\n",
       "      <th>VQUARTER</th>\n",
       "      <th>VYEAR</th>\n",
       "      <th>SHIPNAME</th>\n",
       "      <th>VESSEL</th>\n",
       "      <th>CONQTY</th>\n",
       "      <th>TEUS</th>\n",
       "    </tr>\n",
       "  </thead>\n",
       "  <tbody>\n",
       "    <tr>\n",
       "      <th>0</th>\n",
       "      <td>2008-01-01 00:00:00</td>\n",
       "      <td>2008-01-01</td>\n",
       "      <td>2008 Q1</td>\n",
       "      <td>2008</td>\n",
       "      <td>MEDITERRANEAN SHIPPING COMPANY</td>\n",
       "      <td>MSC MARINA</td>\n",
       "      <td>1</td>\n",
       "      <td>2.00</td>\n",
       "    </tr>\n",
       "    <tr>\n",
       "      <th>1</th>\n",
       "      <td>2008-01-01 00:00:00</td>\n",
       "      <td>2008-01-01</td>\n",
       "      <td>2008 Q1</td>\n",
       "      <td>2008</td>\n",
       "      <td>GUARANI LINE LTD</td>\n",
       "      <td>EVER DELIGHT</td>\n",
       "      <td>4</td>\n",
       "      <td>5.07</td>\n",
       "    </tr>\n",
       "  </tbody>\n",
       "</table>\n",
       "</div>"
      ],
      "text/plain": [
       "                 VDATE     VMONTH VQUARTER  VYEAR  \\\n",
       "0  2008-01-01 00:00:00 2008-01-01  2008 Q1   2008   \n",
       "1  2008-01-01 00:00:00 2008-01-01  2008 Q1   2008   \n",
       "\n",
       "                         SHIPNAME        VESSEL  CONQTY  TEUS  \n",
       "0  MEDITERRANEAN SHIPPING COMPANY    MSC MARINA       1  2.00  \n",
       "1                GUARANI LINE LTD  EVER DELIGHT       4  5.07  "
      ]
     },
     "execution_count": 3,
     "metadata": {},
     "output_type": "execute_result"
    }
   ],
   "source": [
    "# Read CSV and convert column to datetime\n",
    "dataM = pd.read_csv('US-China-Import-9ans.csv', encoding='latin-1')\n",
    "dataM['VMONTH'] = pd.to_datetime(dataM['VMONTH'])\n",
    "dataM.head(2)"
   ]
  },
  {
   "cell_type": "code",
   "execution_count": 3,
   "metadata": {},
   "outputs": [
    {
     "name": "stdout",
     "output_type": "stream",
     "text": [
      "Enter Company Name: CMA\n"
     ]
    },
    {
     "data": {
      "text/html": [
       "<div>\n",
       "<style>\n",
       "    .dataframe thead tr:only-child th {\n",
       "        text-align: right;\n",
       "    }\n",
       "\n",
       "    .dataframe thead th {\n",
       "        text-align: left;\n",
       "    }\n",
       "\n",
       "    .dataframe tbody tr th {\n",
       "        vertical-align: top;\n",
       "    }\n",
       "</style>\n",
       "<table border=\"1\" class=\"dataframe\">\n",
       "  <thead>\n",
       "    <tr style=\"text-align: right;\">\n",
       "      <th></th>\n",
       "      <th>VDATE</th>\n",
       "      <th>VMONTH</th>\n",
       "      <th>VQUARTER</th>\n",
       "      <th>VYEAR</th>\n",
       "      <th>SHIPNAME</th>\n",
       "      <th>VESSEL</th>\n",
       "      <th>CONQTY</th>\n",
       "      <th>TEUS</th>\n",
       "    </tr>\n",
       "  </thead>\n",
       "  <tbody>\n",
       "    <tr>\n",
       "      <th>5</th>\n",
       "      <td>2008-01-02 00:00:00</td>\n",
       "      <td>2008-01-01</td>\n",
       "      <td>2008 Q1</td>\n",
       "      <td>2008</td>\n",
       "      <td>CMA-CGM</td>\n",
       "      <td>CMA CGM PURPLE</td>\n",
       "      <td>523</td>\n",
       "      <td>872.84</td>\n",
       "    </tr>\n",
       "    <tr>\n",
       "      <th>27</th>\n",
       "      <td>2008-01-02 00:00:00</td>\n",
       "      <td>2008-01-01</td>\n",
       "      <td>2008 Q1</td>\n",
       "      <td>2008</td>\n",
       "      <td>CMA-CGM</td>\n",
       "      <td>CMA CGM KINGFISH</td>\n",
       "      <td>343</td>\n",
       "      <td>1560.22</td>\n",
       "    </tr>\n",
       "  </tbody>\n",
       "</table>\n",
       "</div>"
      ],
      "text/plain": [
       "                  VDATE     VMONTH VQUARTER  VYEAR SHIPNAME            VESSEL  \\\n",
       "5   2008-01-02 00:00:00 2008-01-01  2008 Q1   2008  CMA-CGM    CMA CGM PURPLE   \n",
       "27  2008-01-02 00:00:00 2008-01-01  2008 Q1   2008  CMA-CGM  CMA CGM KINGFISH   \n",
       "\n",
       "    CONQTY     TEUS  \n",
       "5      523   872.84  \n",
       "27     343  1560.22  "
      ]
     },
     "execution_count": 3,
     "metadata": {},
     "output_type": "execute_result"
    }
   ],
   "source": [
    "input_var = input(\"Enter Company Name: \")\n",
    "dataFull = dataM[dataM.SHIPNAME.str.contains(input_var)]\n",
    "dataFull.head(2)"
   ]
  },
  {
   "cell_type": "code",
   "execution_count": 5,
   "metadata": {
    "collapsed": true
   },
   "outputs": [],
   "source": [
    "# Date range selection\n",
    "dataZim1 = dataFull[(dataFull['VMONTH']<'2016-07-31')]"
   ]
  },
  {
   "cell_type": "code",
   "execution_count": null,
   "metadata": {
    "collapsed": true
   },
   "outputs": [],
   "source": [
    "#dataZim1.head(2)"
   ]
  },
  {
   "cell_type": "code",
   "execution_count": 6,
   "metadata": {},
   "outputs": [
    {
     "data": {
      "text/html": [
       "<div>\n",
       "<style>\n",
       "    .dataframe thead tr:only-child th {\n",
       "        text-align: right;\n",
       "    }\n",
       "\n",
       "    .dataframe thead th {\n",
       "        text-align: left;\n",
       "    }\n",
       "\n",
       "    .dataframe tbody tr th {\n",
       "        vertical-align: top;\n",
       "    }\n",
       "</style>\n",
       "<table border=\"1\" class=\"dataframe\">\n",
       "  <thead>\n",
       "    <tr style=\"text-align: right;\">\n",
       "      <th></th>\n",
       "      <th>VMONTH</th>\n",
       "      <th>TEUS</th>\n",
       "    </tr>\n",
       "  </thead>\n",
       "  <tbody>\n",
       "    <tr>\n",
       "      <th>0</th>\n",
       "      <td>2008-01-01</td>\n",
       "      <td>61626.91</td>\n",
       "    </tr>\n",
       "    <tr>\n",
       "      <th>1</th>\n",
       "      <td>2008-02-01</td>\n",
       "      <td>49898.22</td>\n",
       "    </tr>\n",
       "  </tbody>\n",
       "</table>\n",
       "</div>"
      ],
      "text/plain": [
       "      VMONTH      TEUS\n",
       "0 2008-01-01  61626.91\n",
       "1 2008-02-01  49898.22"
      ]
     },
     "execution_count": 6,
     "metadata": {},
     "output_type": "execute_result"
    }
   ],
   "source": [
    "# Calculate Teus monthly\n",
    "dataZim1 = dataZim1[['VMONTH', 'TEUS']].groupby('VMONTH').agg(np.sum).reset_index().sort_values('VMONTH')\n",
    "dataZim1.head(2)"
   ]
  },
  {
   "cell_type": "code",
   "execution_count": 7,
   "metadata": {
    "collapsed": true
   },
   "outputs": [],
   "source": [
    "# Prophet library datafram copy and rename column\n",
    "df2 = dataZim1.copy()\n",
    "df2['ds'] = df2['VMONTH']\n",
    "df2['y'] = df2['TEUS']"
   ]
  },
  {
   "cell_type": "code",
   "execution_count": 8,
   "metadata": {},
   "outputs": [
    {
     "data": {
      "text/html": [
       "<div>\n",
       "<style>\n",
       "    .dataframe thead tr:only-child th {\n",
       "        text-align: right;\n",
       "    }\n",
       "\n",
       "    .dataframe thead th {\n",
       "        text-align: left;\n",
       "    }\n",
       "\n",
       "    .dataframe tbody tr th {\n",
       "        vertical-align: top;\n",
       "    }\n",
       "</style>\n",
       "<table border=\"1\" class=\"dataframe\">\n",
       "  <thead>\n",
       "    <tr style=\"text-align: right;\">\n",
       "      <th></th>\n",
       "      <th>VMONTH</th>\n",
       "      <th>TEUS</th>\n",
       "      <th>ds</th>\n",
       "      <th>y</th>\n",
       "    </tr>\n",
       "  </thead>\n",
       "  <tbody>\n",
       "    <tr>\n",
       "      <th>0</th>\n",
       "      <td>2008-01-01</td>\n",
       "      <td>61626.91</td>\n",
       "      <td>2008-01-01</td>\n",
       "      <td>61626.91</td>\n",
       "    </tr>\n",
       "    <tr>\n",
       "      <th>1</th>\n",
       "      <td>2008-02-01</td>\n",
       "      <td>49898.22</td>\n",
       "      <td>2008-02-01</td>\n",
       "      <td>49898.22</td>\n",
       "    </tr>\n",
       "  </tbody>\n",
       "</table>\n",
       "</div>"
      ],
      "text/plain": [
       "      VMONTH      TEUS         ds         y\n",
       "0 2008-01-01  61626.91 2008-01-01  61626.91\n",
       "1 2008-02-01  49898.22 2008-02-01  49898.22"
      ]
     },
     "execution_count": 8,
     "metadata": {},
     "output_type": "execute_result"
    }
   ],
   "source": [
    "df2.head(2)"
   ]
  },
  {
   "cell_type": "code",
   "execution_count": 9,
   "metadata": {
    "collapsed": true
   },
   "outputs": [],
   "source": [
    "# Input major Holidays in China and US\n",
    "holidaysChina = pd.DataFrame({\n",
    "  'holiday': 'new_Year',\n",
    "  'ds': pd.to_datetime(['2014-01-31','2015-02-19','2016-02-08',\n",
    "                        '2017-01-28','2018-02-16']),\n",
    "  'lower_window': 0,\n",
    "  'upper_window': 3,\n",
    "})"
   ]
  },
  {
   "cell_type": "code",
   "execution_count": 10,
   "metadata": {
    "collapsed": true
   },
   "outputs": [],
   "source": [
    "#Prophet setup using prefered parameters \n",
    "pierZim = Prophet(weekly_seasonality=False,interval_width=0.95,changepoint_prior_scale=0.02,n_changepoints=10,holidays=holidaysChina)"
   ]
  },
  {
   "cell_type": "code",
   "execution_count": 11,
   "metadata": {},
   "outputs": [
    {
     "data": {
      "text/plain": [
       "<fbprophet.forecaster.Prophet at 0x2c673603438>"
      ]
     },
     "execution_count": 11,
     "metadata": {},
     "output_type": "execute_result"
    }
   ],
   "source": [
    "# Fit Data into model\n",
    "pierZim.fit(df2)"
   ]
  },
  {
   "cell_type": "code",
   "execution_count": 12,
   "metadata": {
    "collapsed": true
   },
   "outputs": [],
   "source": [
    "# Create dataframe for 12 months forecasts\n",
    "futurZim = pierZim.make_future_dataframe(periods=12,freq='M')\n"
   ]
  },
  {
   "cell_type": "code",
   "execution_count": 13,
   "metadata": {},
   "outputs": [
    {
     "data": {
      "text/html": [
       "<div>\n",
       "<style>\n",
       "    .dataframe thead tr:only-child th {\n",
       "        text-align: right;\n",
       "    }\n",
       "\n",
       "    .dataframe thead th {\n",
       "        text-align: left;\n",
       "    }\n",
       "\n",
       "    .dataframe tbody tr th {\n",
       "        vertical-align: top;\n",
       "    }\n",
       "</style>\n",
       "<table border=\"1\" class=\"dataframe\">\n",
       "  <thead>\n",
       "    <tr style=\"text-align: right;\">\n",
       "      <th></th>\n",
       "      <th>ds</th>\n",
       "      <th>yhat</th>\n",
       "      <th>yhat_lower</th>\n",
       "      <th>yhat_upper</th>\n",
       "    </tr>\n",
       "  </thead>\n",
       "  <tbody>\n",
       "    <tr>\n",
       "      <th>110</th>\n",
       "      <td>2017-02-28</td>\n",
       "      <td>64630.829269</td>\n",
       "      <td>52818.328138</td>\n",
       "      <td>76834.713411</td>\n",
       "    </tr>\n",
       "    <tr>\n",
       "      <th>111</th>\n",
       "      <td>2017-03-31</td>\n",
       "      <td>68875.336650</td>\n",
       "      <td>56196.547976</td>\n",
       "      <td>80449.536791</td>\n",
       "    </tr>\n",
       "    <tr>\n",
       "      <th>112</th>\n",
       "      <td>2017-04-30</td>\n",
       "      <td>74204.772176</td>\n",
       "      <td>61901.786578</td>\n",
       "      <td>86808.511335</td>\n",
       "    </tr>\n",
       "    <tr>\n",
       "      <th>113</th>\n",
       "      <td>2017-05-31</td>\n",
       "      <td>71767.447225</td>\n",
       "      <td>59868.718280</td>\n",
       "      <td>84222.966661</td>\n",
       "    </tr>\n",
       "    <tr>\n",
       "      <th>114</th>\n",
       "      <td>2017-06-30</td>\n",
       "      <td>73674.471926</td>\n",
       "      <td>61593.791312</td>\n",
       "      <td>85483.086466</td>\n",
       "    </tr>\n",
       "  </tbody>\n",
       "</table>\n",
       "</div>"
      ],
      "text/plain": [
       "            ds          yhat    yhat_lower    yhat_upper\n",
       "110 2017-02-28  64630.829269  52818.328138  76834.713411\n",
       "111 2017-03-31  68875.336650  56196.547976  80449.536791\n",
       "112 2017-04-30  74204.772176  61901.786578  86808.511335\n",
       "113 2017-05-31  71767.447225  59868.718280  84222.966661\n",
       "114 2017-06-30  73674.471926  61593.791312  85483.086466"
      ]
     },
     "execution_count": 13,
     "metadata": {},
     "output_type": "execute_result"
    }
   ],
   "source": [
    "# Forecast the 12 months data\n",
    "forecastZim = pierZim.predict(futurZim)\n",
    "forecastZim[['ds', 'yhat', 'yhat_lower', 'yhat_upper']].tail()"
   ]
  },
  {
   "cell_type": "code",
   "execution_count": 14,
   "metadata": {},
   "outputs": [
    {
     "data": {
      "image/png": "[encoded data removed]",
      "text/plain": [
       "<matplotlib.figure.Figure at 0x2c6738176a0>"
      ]
     },
     "execution_count": 14,
     "metadata": {},
     "output_type": "execute_result"
    }
   ],
   "source": [
    "pierZim.plot(forecastZim)"
   ]
  },
  {
   "cell_type": "code",
   "execution_count": null,
   "metadata": {},
   "outputs": [],
   "source": [
    "# Plot above shows a steady growth in the number of TEUS"
   ]
  },
  {
   "cell_type": "code",
   "execution_count": 15,
   "metadata": {},
   "outputs": [
    {
     "data": {
      "image/png": "[encoded data removed]",
      "text/plain": [
       "<matplotlib.figure.Figure at 0x2c6745989e8>"
      ]
     },
     "execution_count": 15,
     "metadata": {},
     "output_type": "execute_result"
    }
   ],
   "source": [
    "pierZim.plot_components(forecastZim)"
   ]
  },
  {
   "cell_type": "markdown",
   "metadata": {},
   "source": [
    "The plots above show the trend and seasonalities, as seen there has been an increase in teus of about 20,000 between 2008 and 2017. \n",
    "The yearly seasonality shows a heavy drop between February and March, this is because of the chinese new year. September to October has the highest amount of TEUS due to preparation for christmas holidays "
   ]
  },
  {
   "cell_type": "code",
   "execution_count": 16,
   "metadata": {
    "collapsed": true
   },
   "outputs": [],
   "source": [
    "# Selecting range for testing data\n",
    "tester1 = dataFull[(dataFull['VMONTH']>='2016-07-31')]"
   ]
  },
  {
   "cell_type": "code",
   "execution_count": 17,
   "metadata": {},
   "outputs": [
    {
     "data": {
      "text/html": [
       "<div>\n",
       "<style>\n",
       "    .dataframe thead tr:only-child th {\n",
       "        text-align: right;\n",
       "    }\n",
       "\n",
       "    .dataframe thead th {\n",
       "        text-align: left;\n",
       "    }\n",
       "\n",
       "    .dataframe tbody tr th {\n",
       "        vertical-align: top;\n",
       "    }\n",
       "</style>\n",
       "<table border=\"1\" class=\"dataframe\">\n",
       "  <thead>\n",
       "    <tr style=\"text-align: right;\">\n",
       "      <th></th>\n",
       "      <th>VDATE</th>\n",
       "      <th>VMONTH</th>\n",
       "      <th>VQUARTER</th>\n",
       "      <th>VYEAR</th>\n",
       "      <th>SHIPNAME</th>\n",
       "      <th>VESSEL</th>\n",
       "      <th>CONQTY</th>\n",
       "      <th>TEUS</th>\n",
       "    </tr>\n",
       "  </thead>\n",
       "  <tbody>\n",
       "    <tr>\n",
       "      <th>242266</th>\n",
       "      <td>2016-08-01 00:00:00</td>\n",
       "      <td>2016-08-01</td>\n",
       "      <td>2016 Q3</td>\n",
       "      <td>2016</td>\n",
       "      <td>CMA-CGM</td>\n",
       "      <td>CMA CGM RHONE</td>\n",
       "      <td>732</td>\n",
       "      <td>680.31</td>\n",
       "    </tr>\n",
       "    <tr>\n",
       "      <th>242267</th>\n",
       "      <td>2016-08-01 00:00:00</td>\n",
       "      <td>2016-08-01</td>\n",
       "      <td>2016 Q3</td>\n",
       "      <td>2016</td>\n",
       "      <td>CMA-CGM</td>\n",
       "      <td>COSCO GLORY</td>\n",
       "      <td>12</td>\n",
       "      <td>2.04</td>\n",
       "    </tr>\n",
       "    <tr>\n",
       "      <th>242288</th>\n",
       "      <td>2016-08-01 00:00:00</td>\n",
       "      <td>2016-08-01</td>\n",
       "      <td>2016 Q3</td>\n",
       "      <td>2016</td>\n",
       "      <td>CMA-CGM</td>\n",
       "      <td>CMA CGM MELISANDE</td>\n",
       "      <td>1499</td>\n",
       "      <td>1350.57</td>\n",
       "    </tr>\n",
       "  </tbody>\n",
       "</table>\n",
       "</div>"
      ],
      "text/plain": [
       "                      VDATE     VMONTH VQUARTER  VYEAR SHIPNAME  \\\n",
       "242266  2016-08-01 00:00:00 2016-08-01  2016 Q3   2016  CMA-CGM   \n",
       "242267  2016-08-01 00:00:00 2016-08-01  2016 Q3   2016  CMA-CGM   \n",
       "242288  2016-08-01 00:00:00 2016-08-01  2016 Q3   2016  CMA-CGM   \n",
       "\n",
       "                   VESSEL  CONQTY     TEUS  \n",
       "242266      CMA CGM RHONE     732   680.31  \n",
       "242267        COSCO GLORY      12     2.04  \n",
       "242288  CMA CGM MELISANDE    1499  1350.57  "
      ]
     },
     "execution_count": 17,
     "metadata": {},
     "output_type": "execute_result"
    }
   ],
   "source": [
    "tester1.head(3)"
   ]
  },
  {
   "cell_type": "code",
   "execution_count": 18,
   "metadata": {
    "collapsed": true
   },
   "outputs": [],
   "source": []
  },
  {
   "cell_type": "code",
   "execution_count": 19,
   "metadata": {
    "collapsed": true
   },
   "outputs": [],
   "source": [
    "finalTest1 = tester1[['VMONTH', 'TEUS']].groupby('VMONTH').agg(np.sum).reset_index().sort_values('VMONTH')"
   ]
  },
  {
   "cell_type": "code",
   "execution_count": 20,
   "metadata": {},
   "outputs": [
    {
     "data": {
      "text/html": [
       "<div>\n",
       "<style>\n",
       "    .dataframe thead tr:only-child th {\n",
       "        text-align: right;\n",
       "    }\n",
       "\n",
       "    .dataframe thead th {\n",
       "        text-align: left;\n",
       "    }\n",
       "\n",
       "    .dataframe tbody tr th {\n",
       "        vertical-align: top;\n",
       "    }\n",
       "</style>\n",
       "<table border=\"1\" class=\"dataframe\">\n",
       "  <thead>\n",
       "    <tr style=\"text-align: right;\">\n",
       "      <th></th>\n",
       "      <th>VMONTH</th>\n",
       "      <th>TEUS</th>\n",
       "    </tr>\n",
       "  </thead>\n",
       "  <tbody>\n",
       "    <tr>\n",
       "      <th>0</th>\n",
       "      <td>2016-08-01</td>\n",
       "      <td>70568.18</td>\n",
       "    </tr>\n",
       "    <tr>\n",
       "      <th>1</th>\n",
       "      <td>2016-09-01</td>\n",
       "      <td>76681.20</td>\n",
       "    </tr>\n",
       "    <tr>\n",
       "      <th>2</th>\n",
       "      <td>2016-10-01</td>\n",
       "      <td>79160.00</td>\n",
       "    </tr>\n",
       "    <tr>\n",
       "      <th>3</th>\n",
       "      <td>2016-11-01</td>\n",
       "      <td>66953.62</td>\n",
       "    </tr>\n",
       "    <tr>\n",
       "      <th>4</th>\n",
       "      <td>2016-12-01</td>\n",
       "      <td>66699.10</td>\n",
       "    </tr>\n",
       "    <tr>\n",
       "      <th>5</th>\n",
       "      <td>2017-01-01</td>\n",
       "      <td>71723.09</td>\n",
       "    </tr>\n",
       "    <tr>\n",
       "      <th>6</th>\n",
       "      <td>2017-02-01</td>\n",
       "      <td>77578.08</td>\n",
       "    </tr>\n",
       "    <tr>\n",
       "      <th>7</th>\n",
       "      <td>2017-03-01</td>\n",
       "      <td>64563.16</td>\n",
       "    </tr>\n",
       "    <tr>\n",
       "      <th>8</th>\n",
       "      <td>2017-04-01</td>\n",
       "      <td>73099.13</td>\n",
       "    </tr>\n",
       "    <tr>\n",
       "      <th>9</th>\n",
       "      <td>2017-05-01</td>\n",
       "      <td>85807.78</td>\n",
       "    </tr>\n",
       "    <tr>\n",
       "      <th>10</th>\n",
       "      <td>2017-06-01</td>\n",
       "      <td>70454.46</td>\n",
       "    </tr>\n",
       "    <tr>\n",
       "      <th>11</th>\n",
       "      <td>2017-07-01</td>\n",
       "      <td>86689.94</td>\n",
       "    </tr>\n",
       "  </tbody>\n",
       "</table>\n",
       "</div>"
      ],
      "text/plain": [
       "       VMONTH      TEUS\n",
       "0  2016-08-01  70568.18\n",
       "1  2016-09-01  76681.20\n",
       "2  2016-10-01  79160.00\n",
       "3  2016-11-01  66953.62\n",
       "4  2016-12-01  66699.10\n",
       "5  2017-01-01  71723.09\n",
       "6  2017-02-01  77578.08\n",
       "7  2017-03-01  64563.16\n",
       "8  2017-04-01  73099.13\n",
       "9  2017-05-01  85807.78\n",
       "10 2017-06-01  70454.46\n",
       "11 2017-07-01  86689.94"
      ]
     },
     "execution_count": 20,
     "metadata": {},
     "output_type": "execute_result"
    }
   ],
   "source": [
    "#finalTest['TEUS'] = finalTest['TEUS']\n",
    "finalTest1"
   ]
  },
  {
   "cell_type": "code",
   "execution_count": 21,
   "metadata": {},
   "outputs": [
    {
     "data": {
      "text/plain": [
       "12"
      ]
     },
     "execution_count": 21,
     "metadata": {},
     "output_type": "execute_result"
    }
   ],
   "source": [
    "len(finalTest1.index)"
   ]
  },
  {
   "cell_type": "code",
   "execution_count": 22,
   "metadata": {
    "collapsed": true
   },
   "outputs": [],
   "source": [
    "tab = forecastZim.iloc[-12:,:].reset_index().loc[:,['ds','yhat']]\n",
    "tab[['y']] = finalTest1.reset_index()[['TEUS']]"
   ]
  },
  {
   "cell_type": "code",
   "execution_count": 23,
   "metadata": {},
   "outputs": [
    {
     "data": {
      "text/plain": [
       "12"
      ]
     },
     "execution_count": 23,
     "metadata": {},
     "output_type": "execute_result"
    }
   ],
   "source": [
    "trl = forecastZim[(forecastZim['ds']>'2015-07-31')&(forecastZim['ds']<'2016-07-31')]\n",
    "len(trl.index)\n",
    "#forecastZim.tail(3)"
   ]
  },
  {
   "cell_type": "code",
   "execution_count": 24,
   "metadata": {
    "collapsed": true
   },
   "outputs": [],
   "source": [
    "#Okay"
   ]
  },
  {
   "cell_type": "code",
   "execution_count": 31,
   "metadata": {
    "collapsed": true
   },
   "outputs": [],
   "source": [
    "dataZim1.to_csv('Train.csv',index=False)"
   ]
  },
  {
   "cell_type": "code",
   "execution_count": 25,
   "metadata": {},
   "outputs": [
    {
     "data": {
      "text/plain": [
       "(0, 200000)"
      ]
     },
     "execution_count": 25,
     "metadata": {},
     "output_type": "execute_result"
    },
    {
     "data": {
      "image/png": "[encoded data removed]",
      "text/plain": [
       "<matplotlib.figure.Figure at 0x2c67462eb70>"
      ]
     },
     "metadata": {},
     "output_type": "display_data"
    }
   ],
   "source": [
    "%matplotlib inline\n",
    "plt.plot(tab.ds, tab.y,label='Actual')\n",
    "plt.plot(tab.ds, tab.yhat,label='Predicted')\n",
    "plt.legend(loc='best')\n",
    "plt.ylim(0, 200000)\n",
    "#plt.legend(handles=[line_up, line_down])"
   ]
  },
  {
   "cell_type": "markdown",
   "metadata": {},
   "source": [
    "As seen above the predcited vs actual lines show there is a very little difference between the two"
   ]
  },
  {
   "cell_type": "code",
   "execution_count": 26,
   "metadata": {},
   "outputs": [
    {
     "data": {
      "text/html": [
       "<div>\n",
       "<style>\n",
       "    .dataframe thead tr:only-child th {\n",
       "        text-align: right;\n",
       "    }\n",
       "\n",
       "    .dataframe thead th {\n",
       "        text-align: left;\n",
       "    }\n",
       "\n",
       "    .dataframe tbody tr th {\n",
       "        vertical-align: top;\n",
       "    }\n",
       "</style>\n",
       "<table border=\"1\" class=\"dataframe\">\n",
       "  <thead>\n",
       "    <tr style=\"text-align: right;\">\n",
       "      <th></th>\n",
       "      <th>ds</th>\n",
       "      <th>yhat</th>\n",
       "      <th>y</th>\n",
       "    </tr>\n",
       "  </thead>\n",
       "  <tbody>\n",
       "    <tr>\n",
       "      <th>0</th>\n",
       "      <td>2016-07-31</td>\n",
       "      <td>73704.692424</td>\n",
       "      <td>70568.18</td>\n",
       "    </tr>\n",
       "    <tr>\n",
       "      <th>1</th>\n",
       "      <td>2016-08-31</td>\n",
       "      <td>75788.651446</td>\n",
       "      <td>76681.20</td>\n",
       "    </tr>\n",
       "    <tr>\n",
       "      <th>2</th>\n",
       "      <td>2016-09-30</td>\n",
       "      <td>79279.806473</td>\n",
       "      <td>79160.00</td>\n",
       "    </tr>\n",
       "    <tr>\n",
       "      <th>3</th>\n",
       "      <td>2016-10-31</td>\n",
       "      <td>68920.228131</td>\n",
       "      <td>66953.62</td>\n",
       "    </tr>\n",
       "    <tr>\n",
       "      <th>4</th>\n",
       "      <td>2016-11-30</td>\n",
       "      <td>65162.388395</td>\n",
       "      <td>66699.10</td>\n",
       "    </tr>\n",
       "    <tr>\n",
       "      <th>5</th>\n",
       "      <td>2016-12-31</td>\n",
       "      <td>73559.841475</td>\n",
       "      <td>71723.09</td>\n",
       "    </tr>\n",
       "    <tr>\n",
       "      <th>6</th>\n",
       "      <td>2017-01-31</td>\n",
       "      <td>68871.562405</td>\n",
       "      <td>77578.08</td>\n",
       "    </tr>\n",
       "    <tr>\n",
       "      <th>7</th>\n",
       "      <td>2017-02-28</td>\n",
       "      <td>64630.829269</td>\n",
       "      <td>64563.16</td>\n",
       "    </tr>\n",
       "    <tr>\n",
       "      <th>8</th>\n",
       "      <td>2017-03-31</td>\n",
       "      <td>68875.336650</td>\n",
       "      <td>73099.13</td>\n",
       "    </tr>\n",
       "    <tr>\n",
       "      <th>9</th>\n",
       "      <td>2017-04-30</td>\n",
       "      <td>74204.772176</td>\n",
       "      <td>85807.78</td>\n",
       "    </tr>\n",
       "    <tr>\n",
       "      <th>10</th>\n",
       "      <td>2017-05-31</td>\n",
       "      <td>71767.447225</td>\n",
       "      <td>70454.46</td>\n",
       "    </tr>\n",
       "    <tr>\n",
       "      <th>11</th>\n",
       "      <td>2017-06-30</td>\n",
       "      <td>73674.471926</td>\n",
       "      <td>86689.94</td>\n",
       "    </tr>\n",
       "  </tbody>\n",
       "</table>\n",
       "</div>"
      ],
      "text/plain": [
       "           ds          yhat         y\n",
       "0  2016-07-31  73704.692424  70568.18\n",
       "1  2016-08-31  75788.651446  76681.20\n",
       "2  2016-09-30  79279.806473  79160.00\n",
       "3  2016-10-31  68920.228131  66953.62\n",
       "4  2016-11-30  65162.388395  66699.10\n",
       "5  2016-12-31  73559.841475  71723.09\n",
       "6  2017-01-31  68871.562405  77578.08\n",
       "7  2017-02-28  64630.829269  64563.16\n",
       "8  2017-03-31  68875.336650  73099.13\n",
       "9  2017-04-30  74204.772176  85807.78\n",
       "10 2017-05-31  71767.447225  70454.46\n",
       "11 2017-06-30  73674.471926  86689.94"
      ]
     },
     "execution_count": 26,
     "metadata": {},
     "output_type": "execute_result"
    }
   ],
   "source": [
    "tab"
   ]
  },
  {
   "cell_type": "code",
   "execution_count": 27,
   "metadata": {},
   "outputs": [
    {
     "data": {
      "text/plain": [
       "4034.0"
      ]
     },
     "execution_count": 27,
     "metadata": {},
     "output_type": "execute_result"
    }
   ],
   "source": [
    "MSE = np.sum(np.abs(tab.yhat-tab.y))\n",
    "MSE//12  # Average Sum Absolute Error"
   ]
  },
  {
   "cell_type": "code",
   "execution_count": 28,
   "metadata": {},
   "outputs": [
    {
     "data": {
      "text/plain": [
       "5913.6564126888925"
      ]
     },
     "execution_count": 28,
     "metadata": {},
     "output_type": "execute_result"
    }
   ],
   "source": [
    "Sum_Square_Error = np.sum((tab.yhat-tab.y)**2)\n",
    "np.sqrt(Sum_Square_Error/12)"
   ]
  },
  {
   "cell_type": "code",
   "execution_count": 29,
   "metadata": {},
   "outputs": [
    {
     "data": {
      "text/plain": [
       "5.088956886213886"
      ]
     },
     "execution_count": 29,
     "metadata": {},
     "output_type": "execute_result"
    }
   ],
   "source": [
    "np.mean(np.abs((tab.y - tab.yhat) / tab.y)) * 100"
   ]
  },
  {
   "cell_type": "markdown",
   "metadata": {},
   "source": [
    "The MSE, Sum Square Error and  Mean Absolute Percentage Error show that the forecasts made is very accurate."
   ]
  },
  {
   "cell_type": "code",
   "execution_count": 4,
   "metadata": {},
   "outputs": [
    {
     "data": {
      "text/plain": [
       "275734"
      ]
     },
     "execution_count": 4,
     "metadata": {},
     "output_type": "execute_result"
    }
   ],
   "source": [
    "len(dataM)"
   ]
  },
  {
   "cell_type": "code",
   "execution_count": null,
   "metadata": {
    "collapsed": true
   },
   "outputs": [],
   "source": []
  }
 ],
 "metadata": {
  "kernelspec": {
   "display_name": "Python 3",
   "language": "python",
   "name": "python3"
  },
  "language_info": {
   "codemirror_mode": {
    "name": "ipython",
    "version": 3
   },
   "file_extension": ".py",
   "mimetype": "text/x-python",
   "name": "python",
   "nbconvert_exporter": "python",
   "pygments_lexer": "ipython3",
   "version": "3.6.4"
  }
 },
 "nbformat": 4,
 "nbformat_minor": 2
}
